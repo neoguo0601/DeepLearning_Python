{
 "cells": [
  {
   "cell_type": "code",
   "execution_count": null,
   "metadata": {},
   "outputs": [],
   "source": [
    "from tensorflow.examples.tutorials.mnist import input_data"
   ]
  },
  {
   "cell_type": "code",
   "execution_count": null,
   "metadata": {},
   "outputs": [],
   "source": [
    "#载入MNIST数据集，如果指定地址/path/to/MNIST_data下没有已经下载好的数据，\n",
    "#那么TensorFlow会自动从表5-1给出的网址下载数据\n",
    "mnist = input_data.read_data_sets(\"../Data/MNIST\", one_hot=True)\n",
    "\n",
    "#打印Training data size： 55000\n",
    "print(\"Training data size: \", mnist.train.num_examples)\n",
    "\n",
    "#打印Validating data size: 5000\n",
    "print(\"Validating data size: \", mnist.validation.num_examples)\n",
    "\n",
    "#打印Testing data size： 10000\n",
    "print(\"Testing data size: \", mnist.test.num_examples)\n",
    "\n",
    "print(\"Example training data: \", mnist.train.images[0])\n",
    "\n",
    "print(\"Example training data label: \", mnist.train.labels[0])\n",
    "\n",
    "\n",
    "batch_size = 100\n",
    "xs, ys = mnist.train.next_batch(batch_size)\n",
    "#从train的集合中选取batch_size个训练数据\n",
    "print(\"X shape: \", xs.shape)\n",
    "#输出X shaoe: (100, 784)\n",
    "print(\"Y shape: \", ys.shape)\n",
    "#输出Y shape: (100, 10)"
   ]
  }
 ],
 "metadata": {
  "kernelspec": {
   "display_name": "Python 3",
   "language": "python",
   "name": "python3"
  },
  "language_info": {
   "codemirror_mode": {
    "name": "ipython",
    "version": 3
   },
   "file_extension": ".py",
   "mimetype": "text/x-python",
   "name": "python",
   "nbconvert_exporter": "python",
   "pygments_lexer": "ipython3",
   "version": "3.6.5"
  }
 },
 "nbformat": 4,
 "nbformat_minor": 2
}
