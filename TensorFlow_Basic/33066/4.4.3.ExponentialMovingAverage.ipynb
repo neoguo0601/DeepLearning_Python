{
 "cells": [
  {
   "cell_type": "code",
   "execution_count": null,
   "metadata": {},
   "outputs": [],
   "source": [
    "import tensorflow as tf"
   ]
  },
  {
   "cell_type": "code",
   "execution_count": null,
   "metadata": {},
   "outputs": [],
   "source": [
    "#定义一个变量用于计算滑动平均，这个变量的初始值为0。注意这里手动指定了变量的\n",
    "#类型为tf.float32， 因为所有需要计算滑动平均的变量必须是实数类型。\n",
    "v1 = tf.Variable(0, dtype=tf.float32)\n",
    "\n",
    "#这里step变量模拟神经网络中迭代的轮数，可以用于动态控制衰减率\n",
    "step = tf.Variable(0, trainable = False)\n",
    "\n",
    "#定义一个滑动平均的类(class)。初始化时给定了衰减率(0.99)和控制衰减率的变量step。\n",
    "ema = tf.train.ExponentialMovingAverage(0.99, step)\n",
    "#定义一个更新变量滑动平均的操作。这里需要给定一个列表，每次执行这个操作时\n",
    "#这个列表中的变量都会被更新\n",
    "maintain_averages_op = ema.apply([v1])\n",
    "\n",
    "with tf.Session() as sess:\n",
    "    #初始化所有变量\n",
    "    init_op = tf.global_variables_initializer()\n",
    "    sess.run(init_op)\n",
    "\n",
    "    #通过ema.average(v1)获取滑动平均之后变量的取值。在初始化之后变量v1的值和v1的\n",
    "    #滑动平均都为0\n",
    "    print(sess.run([v1, ema.average(v1)]))  #输出[0.0, 0.0]\n",
    "\n",
    "    #更新变量v1的值到5\n",
    "    sess.run(tf.assign(v1, 5))\n",
    "    #更新v1的滑动平均值。衰减率为min{0.99, (1+step)/(10+step) ~= 0.1} = 0.1，\n",
    "    #所以v1的滑动平均会被更新为0.1*0 + 0.9*5 = 4.5\n",
    "    sess.run(maintain_averages_op)\n",
    "    print(sess.run([v1, ema.average(v1)]))  #输出[5.0, 4.5]\n",
    "\n",
    "    #更新step的值为10000\n",
    "    sess.run(tf.assign(step, 10000))\n",
    "    #更新v1的值为10\n",
    "    sess.run(tf.assign(v1, 10))\n",
    "    #更新v1的滑动平均值。衰减率为min{0.99, (1+step)/(10+step) ~= 0.999} = 0.99，\n",
    "    #所以v1的滑动平均会被更新为0.99*4.5 +  0.01*10 = 4.555\n",
    "    sess.run(maintain_averages_op)\n",
    "    print(sess.run([v1, ema.average(v1)]))  #输出[10.0, 4.5549998]\n",
    "\n",
    "    #再次更新滑动平均值，得到的新滑动平均值为0.99*4.555+0.01*10=4.60945\n",
    "    sess.run(maintain_averages_op)\n",
    "    print(sess.run([v1, ema.average(v1)]))  #输出[10.0, 4.6094499]"
   ]
  },
  {
   "cell_type": "code",
   "execution_count": null,
   "metadata": {},
   "outputs": [],
   "source": []
  }
 ],
 "metadata": {
  "kernelspec": {
   "display_name": "Python 3",
   "language": "python",
   "name": "python3"
  },
  "language_info": {
   "codemirror_mode": {
    "name": "ipython",
    "version": 3
   },
   "file_extension": ".py",
   "mimetype": "text/x-python",
   "name": "python",
   "nbconvert_exporter": "python",
   "pygments_lexer": "ipython3",
   "version": "3.6.8"
  }
 },
 "nbformat": 4,
 "nbformat_minor": 2
}
