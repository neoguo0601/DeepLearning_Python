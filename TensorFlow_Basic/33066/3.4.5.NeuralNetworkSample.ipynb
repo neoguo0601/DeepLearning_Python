{
 "cells": [
  {
   "cell_type": "code",
   "execution_count": null,
   "metadata": {},
   "outputs": [],
   "source": [
    "import tensorflow as tf\n",
    "from numpy.random import RandomState"
   ]
  },
  {
   "cell_type": "code",
   "execution_count": null,
   "metadata": {},
   "outputs": [],
   "source": [
    "#定义训练数据batch的大小\n",
    "batch_size = 8\n",
    "\n",
    "#定义神经网络的参数\n",
    "w1 = tf.Variable(tf.random_normal([2,3], stddev=1, seed=1))\n",
    "w2 = tf.Variable(tf.random_normal([3,1], stddev=1, seed=1))\n",
    "\n",
    "#在shape的一个维度上使用None可以方便使用不同的batch大小。在训练时需要把数据\n",
    "#分成比较小的batch，但是在测试时，可以一次性使用全部的数据。当数据集比较小时\n",
    "#这样比较方便测试，但是数据集比较大时，将大量数据放入一把batch可能会导致内存溢出\n",
    "x = tf.placeholder(tf.float32, shape=(None,2), name=\"x-input\")\n",
    "y_= tf.placeholder(tf.float32, shape=(None,1), name=\"y-input\")\n",
    "\n",
    "#定义神经网络前向传播过程\n",
    "a = tf.nn.relu(tf.matmul(x, w1))\n",
    "y = tf.nn.relu(tf.matmul(a, w2))\n",
    "\n",
    "#定义损失函数和反向传播算法\n",
    "y = tf.sigmoid(y)\n",
    "\n",
    "cross_entropy = -tf.reduce_mean(\n",
    "    y_ * tf.log(tf.clip_by_value(y, 1e-10, 1.0))\n",
    "    + (1-y_)*tf.log(tf.clip_by_value(1-y, 1e-10, 1.0)))\n",
    "\n",
    "learning_rate = 0.001\n",
    "train_step = tf.train.AdamOptimizer(learning_rate).minimize(cross_entropy)"
   ]
  },
  {
   "cell_type": "code",
   "execution_count": null,
   "metadata": {},
   "outputs": [],
   "source": [
    "#通过随机数生成一个模拟数据集\n",
    "rdm = RandomState(1)\n",
    "dataset_size = 128\n",
    "X = rdm.rand(dataset_size, 2)\n",
    "#定义规则来给出样本的标签。在这里所有x1+x2<1的样例都被认为是正样本（比如零件合格），\n",
    "#而其他为负样本（比如零件不合格）。和Tensorflow游乐场中的表示法不大一样的地方是，\n",
    "#在这里使用0来表示负样本，1来表示正样本。大部分解决分类问题的神经网络都会采用\n",
    "#0和1的表示方法\n",
    "Y = [[int(x1 + x2 < 1)] for (x1, x2) in X]"
   ]
  },
  {
   "cell_type": "code",
   "execution_count": null,
   "metadata": {},
   "outputs": [],
   "source": [
    "#创建一个会话来运行TensorFlow程序\n",
    "with tf.Session() as sess:\n",
    "    init_op = tf.global_variables_initializer()\n",
    "    #初始化变量\n",
    "    sess.run(init_op)\n",
    "    \n",
    "    print(sess.run(w1))\n",
    "    print(sess.run(w2))\n",
    "    \n",
    "    #设定训练的轮数\n",
    "    STEPS = 10000\n",
    "    for i in range(STEPS):\n",
    "        #每次选取batch_size个样本进行训练\n",
    "        start = (i * batch_size) % dataset_size\n",
    "        end = min(start + batch_size, dataset_size)\n",
    "        \n",
    "        #通过选取的样本训练神经网络并更新参数\n",
    "        sess.run(train_step,\n",
    "                feed_dict={x: X[start:end], y_:Y[start:end]})\n",
    "        if i % 1000 == 0:\n",
    "            #每隔一段时间计算在所有数据上的交叉熵并输出\n",
    "            total_cross_entropy = sess.run(cross_entropy, feed_dict={x: X, y_: Y})\n",
    "            print(\"After %d training strp(s), cross entropy on all data is %g\" %(i, total_cross_entropy))\n",
    "    \n",
    "    print(sess.run(w1))\n",
    "    print(sess.run(w2)) "
   ]
  },
  {
   "cell_type": "code",
   "execution_count": null,
   "metadata": {},
   "outputs": [],
   "source": []
  }
 ],
 "metadata": {
  "kernelspec": {
   "display_name": "Python 3",
   "language": "python",
   "name": "python3"
  },
  "language_info": {
   "codemirror_mode": {
    "name": "ipython",
    "version": 3
   },
   "file_extension": ".py",
   "mimetype": "text/x-python",
   "name": "python",
   "nbconvert_exporter": "python",
   "pygments_lexer": "ipython3",
   "version": "3.6.8"
  }
 },
 "nbformat": 4,
 "nbformat_minor": 2
}
